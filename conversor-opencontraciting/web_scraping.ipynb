{
 "cells": [
  {
   "cell_type": "code",
   "execution_count": 88,
   "metadata": {},
   "outputs": [],
   "source": [
    "import pandas as pd\n",
    "import json\n",
    "from pandas.io.json import json_normalize #package for flattening json in pandas df\n",
    "from pathlib import Path\n",
    "import os\n",
    "import urllib\n",
    "\n",
    "import warnings\n",
    "warnings.filterwarnings(\"ignore\")"
   ]
  },
  {
   "cell_type": "markdown",
   "metadata": {},
   "source": [
    "### Scrapping de datos de la página web"
   ]
  },
  {
   "cell_type": "code",
   "execution_count": 40,
   "metadata": {},
   "outputs": [],
   "source": [
    "import requests\n",
    "from bs4 import BeautifulSoup\n",
    "\n",
    "URL = 'https://datosabiertos.compraspublicas.gob.ec/OCDS/'\n",
    "page = requests.get(URL)\n",
    "soup = BeautifulSoup(page.content, 'html.parser')"
   ]
  },
  {
   "cell_type": "markdown",
   "metadata": {},
   "source": [
    "Obtengo nombres de los documentos en la página web"
   ]
  },
  {
   "cell_type": "code",
   "execution_count": 41,
   "metadata": {},
   "outputs": [],
   "source": [
    "python_jobs = soup.find_all('a')\n",
    "documentos = []\n",
    "for p_job in python_jobs:\n",
    "    link = p_job.find('download')\n",
    "    texto = p_job.text.split()[1].strip()    \n",
    "    documentos.append(texto)\n",
    "# print(documentos)"
   ]
  },
  {
   "cell_type": "markdown",
   "metadata": {},
   "source": [
    "La siguiente celda puede tardar varios minutos"
   ]
  },
  {
   "cell_type": "code",
   "execution_count": 43,
   "metadata": {},
   "outputs": [
    {
     "name": "stdout",
     "output_type": "stream",
     "text": [
      "Decargado: ocds-2020-06-09.json\n",
      "Decargado: ocds-2020-06-15.json\n",
      "Decargado: ocds-2020-06-22.json\n",
      "Decargado: ocds-2020-06-29.json\n",
      "Decargado: ocds-2020-07-06.json\n",
      "Decargado: ocds-2020-07-13.json\n",
      "Decargado: ocds-2020-07-20.json\n",
      "Decargado: ocds-2020-07-27.json\n",
      "Decargado: ocds-2020-08-03.json\n",
      "Decargado: ocds-2020-08-10.json\n",
      "Decargado: ocds-2020-08-17.json\n",
      "Decargado: ocds-2020-08-24.json\n",
      "Decargado: ocds-2020-08-31.json\n",
      "Decargado: ocds-2020-09-07.json\n",
      "Decargado: ocds-2020-09-14.json\n",
      "Decargado: ocds-2020-09-21.json\n",
      "Decargado: ocds-2020-09-28.json\n",
      "Decargado: ocds-2020-10-05.json\n",
      "Decargado: ocds-2020-10-12.json\n"
     ]
    }
   ],
   "source": [
    "url_archivos = 'https://datosabiertos.compraspublicas.gob.ec/OCDS/archivos/'\n",
    "for documento in documentos:\n",
    "    urllib.request.urlretrieve(url_archivos+documento, '../base_datos/'+documento)\n",
    "    print('Decargado:', documento)"
   ]
  },
  {
   "cell_type": "markdown",
   "metadata": {},
   "source": [
    "### Definimos funciones"
   ]
  },
  {
   "cell_type": "code",
   "execution_count": 113,
   "metadata": {},
   "outputs": [],
   "source": [
    "def json_to_excel(nombre_archivo):      \n",
    "    p = Path(nombre_archivo)\n",
    "    with p.open('r', encoding='utf-8') as f:\n",
    "        data = json.loads(f.read())\n",
    "\n",
    "    # Aquí se aplana el json nested     \n",
    "    data_1 = json_normalize(data['releases'])    \n",
    "    change = data_1.to_json(orient=\"records\")\n",
    "    parsed = json.loads(change)\n",
    "    data_aw = json_normalize(parsed,  record_path='awards', record_prefix='awards_', meta = 'id')\n",
    "    metax = list(data_aw.columns)\n",
    "    metax.remove('awards_suppliers')\n",
    "    change = data_aw.to_json(orient=\"records\")\n",
    "    parsed1 = json.loads(change)\n",
    "    data_aw1 = json_normalize(parsed1,  record_path='awards_suppliers', record_prefix='awards_suppliers_', meta = metax)\n",
    "    data_co = json_normalize(parsed,  record_path='contracts', record_prefix='contracts_', meta = 'id')\n",
    "    data_pa = json_normalize(parsed,  record_path='parties', record_prefix='parties_', meta = 'id')\n",
    "    columnas_buyer = []\n",
    "    columnas_supplier = []\n",
    "    culumnas_pa = data_pa.columns\n",
    "    for i in culumnas_pa:\n",
    "        columnas_buyer.append('buyer_'+i)\n",
    "        columnas_supplier.append('supplier_'+i)\n",
    "    val_buyer = [data_pa.loc[i].values for i in range(data_pa.shape[0]) if i%2 == 0]\n",
    "    val_supplier = [data_pa.loc[i].values for i in range(data_pa.shape[0]) if i%2 != 0]\n",
    "    df_buyer = pd.DataFrame(val_buyer, columns = columnas_buyer) \n",
    "    df_supplier = pd.DataFrame(val_supplier, columns = columnas_supplier) \n",
    "    df_by_sup = pd.concat([df_buyer, df_supplier], axis=1)\n",
    "    df_by_sup.drop(columns=['buyer_id'], inplace = True)\n",
    "    df_by_sup.rename(columns={'supplier_id':'id'}, inplace = True)\n",
    "    df_final_1 = pd.merge(data_1, data_aw1, how='inner', on='id')\n",
    "    df_final_2 = pd.merge(df_final_1, data_co, how='inner', on='id')\n",
    "    df_final_3 = pd.merge(df_final_2, df_by_sup, how='inner', on='id')\n",
    "    df_final_3.drop(columns=['contracts','parties','awards'], inplace=True)\n",
    "        \n",
    "    # Desgloce de items en otro Excel\n",
    "    change2 = data_co.to_json(orient=\"records\")\n",
    "    parsed2 = json.loads(change2)    \n",
    "    df_contract_id = json_normalize(parsed2,  record_path='contracts_items', record_prefix='contracts_items_', meta = ['contracts_id','id'])\n",
    "    # Reordenar nombre columnas\n",
    "    id_values = df_contract_id['id']\n",
    "    df_contract_id.drop(columns=['id'], inplace = True)\n",
    "    df_contract_id.insert(0,'id',id_values)\n",
    "#     df_contract_id.head(3)\n",
    "    \n",
    "    return df_final_3, df_contract_id"
   ]
  },
  {
   "cell_type": "markdown",
   "metadata": {},
   "source": [
    "### Cargo archivos Json"
   ]
  },
  {
   "cell_type": "code",
   "execution_count": 116,
   "metadata": {},
   "outputs": [
    {
     "name": "stdout",
     "output_type": "stream",
     "text": [
      "['ocds-2020-06-09.json', 'ocds-2020-06-15.json', 'ocds-2020-06-22.json', 'ocds-2020-06-29.json', 'ocds-2020-07-06.json', 'ocds-2020-07-13.json', 'ocds-2020-07-20.json', 'ocds-2020-07-27.json', 'ocds-2020-08-03.json', 'ocds-2020-08-10.json', 'ocds-2020-08-17.json', 'ocds-2020-08-24.json', 'ocds-2020-08-31.json', 'ocds-2020-09-07.json', 'ocds-2020-09-14.json', 'ocds-2020-09-21.json', 'ocds-2020-09-28.json', 'ocds-2020-10-05.json', 'ocds-2020-10-12.json']\n"
     ]
    }
   ],
   "source": [
    "path_jsons = '../base_datos/'\n",
    "path_salida = path_jsons+'convertidos_xls/'\n",
    "\n",
    "lista_archivos_json = []\n",
    "for i in os.listdir(path_jsons):\n",
    "    path = os.path.join(path_jsons, i)\n",
    "    if not os.path.isdir(path):\n",
    "        lista_archivos_json.append(i)        \n",
    "print(lista_archivos_json)"
   ]
  },
  {
   "cell_type": "code",
   "execution_count": 131,
   "metadata": {},
   "outputs": [
    {
     "data": {
      "text/plain": [
       "['ocds-2020-06-09.json', 'ocds-2020-06-15.json', 'ocds-2020-06-22.json']"
      ]
     },
     "execution_count": 131,
     "metadata": {},
     "output_type": "execute_result"
    }
   ],
   "source": [
    "lista_archivos_json[:3]"
   ]
  },
  {
   "cell_type": "markdown",
   "metadata": {},
   "source": [
    "### Unimos archivos Json Nested"
   ]
  },
  {
   "cell_type": "code",
   "execution_count": 138,
   "metadata": {},
   "outputs": [
    {
     "name": "stdout",
     "output_type": "stream",
     "text": [
      "Procesando: ocds-2020-06-09.json Dimesiones: (5484, 55)\n",
      "Procesando: ocds-2020-06-15.json Dimesiones: (5842, 55)\n",
      "Procesando: ocds-2020-06-22.json Dimesiones: (6314, 55)\n",
      "Procesando: ocds-2020-06-29.json Dimesiones: (6582, 55)\n",
      "Procesando: ocds-2020-07-06.json Dimesiones: (6763, 55)\n",
      "Procesando: ocds-2020-07-13.json Dimesiones: (6914, 55)\n",
      "Procesando: ocds-2020-07-20.json Dimesiones: (7081, 55)\n",
      "Procesando: ocds-2020-07-27.json Dimesiones: (7182, 55)\n",
      "Procesando: ocds-2020-08-03.json Dimesiones: (7310, 55)\n",
      "Procesando: ocds-2020-08-10.json Dimesiones: (7386, 55)\n",
      "Procesando: ocds-2020-08-17.json Dimesiones: (7529, 55)\n",
      "Procesando: ocds-2020-08-24.json Dimesiones: (7639, 55)\n",
      "Procesando: ocds-2020-08-31.json Dimesiones: (7703, 55)\n",
      "Procesando: ocds-2020-09-07.json Dimesiones: (7850, 55)\n",
      "Procesando: ocds-2020-09-14.json Dimesiones: (8004, 55)\n",
      "Procesando: ocds-2020-09-21.json Dimesiones: (8055, 55)\n",
      "Procesando: ocds-2020-09-28.json Dimesiones: (8104, 55)\n",
      "Procesando: ocds-2020-10-05.json Dimesiones: (8143, 55)\n",
      "Procesando: ocds-2020-10-12.json Dimesiones: (8169, 55)\n"
     ]
    }
   ],
   "source": [
    "contador = 0\n",
    "dataframe_anterior = pd.DataFrame()\n",
    "general = pd.DataFrame()\n",
    "dataframe_anterior_desglose = pd.DataFrame()\n",
    "general_desglose = pd.DataFrame()\n",
    "for archivo in lista_archivos_json[:]:    \n",
    "    # Excel del json\n",
    "    data_processed, data_desglose = json_to_excel(path_jsons+archivo)\n",
    "    print('Procesando:',archivo,'Dimesiones:',data_processed.shape)\n",
    "    data_processed.to_excel(path_salida+archivo[:-5]+'.xlsx')\n",
    "    data_processed.to_excel(path_salida+archivo[:-5]+'.xlsx')\n",
    "    # Excel del desglose de items  \n",
    "    data_desglose_1 = pd.merge(data_desglose, data_processed_1[['awards_value.amount','id']], how='inner', on='id')\n",
    "    data_desglose_1.to_excel(path_salida+archivo[:-5]+'_desglose_productos.xlsx')\n",
    "    \n",
    "    # Añadir al general\n",
    "    if contador > 0:\n",
    "        general = pd.concat([dataframe_anterior, data_processed], ignore_index=True)\n",
    "        dataframe_anterior = general\n",
    "        \n",
    "        general_desglose = pd.concat([dataframe_anterior_desglose, data_desglose_1])\n",
    "        dataframe_anterior_desglose = general_desglose\n",
    "    else:\n",
    "        dataframe_anterior = data_processed.head(1) \n",
    "        general = pd.concat([dataframe_anterior, data_processed], ignore_index=True)\n",
    "        dataframe_anterior = general\n",
    "        \n",
    "        dataframe_anterior_desglose = data_desglose_1.head(1) \n",
    "        general_desglose = pd.concat([dataframe_anterior_desglose, data_desglose_1])\n",
    "        dataframe_anterior_desglose = general_desglose\n",
    "    contador += 1                               "
   ]
  },
  {
   "cell_type": "code",
   "execution_count": 151,
   "metadata": {},
   "outputs": [],
   "source": [
    "general_final = general.iloc[1:]\n",
    "general_desglose_final = general_desglose.iloc[1:]"
   ]
  },
  {
   "cell_type": "code",
   "execution_count": 152,
   "metadata": {},
   "outputs": [
    {
     "data": {
      "text/plain": [
       "(138054, 55)"
      ]
     },
     "execution_count": 152,
     "metadata": {},
     "output_type": "execute_result"
    }
   ],
   "source": [
    "general_final.shape"
   ]
  },
  {
   "cell_type": "code",
   "execution_count": 153,
   "metadata": {},
   "outputs": [
    {
     "data": {
      "text/plain": [
       "(274719, 9)"
      ]
     },
     "execution_count": 153,
     "metadata": {},
     "output_type": "execute_result"
    }
   ],
   "source": [
    "general_desglose_final.shape"
   ]
  },
  {
   "cell_type": "markdown",
   "metadata": {},
   "source": [
    "### Conversion a CSV"
   ]
  },
  {
   "cell_type": "code",
   "execution_count": 167,
   "metadata": {},
   "outputs": [],
   "source": [
    "general_final.to_csv(path_salida+'general.csv', index=False)\n",
    "general_desglose_final.to_csv(path_salida+'general_desglose_productos.csv', index=False)"
   ]
  },
  {
   "cell_type": "markdown",
   "metadata": {},
   "source": [
    "### Conversion a XLS"
   ]
  },
  {
   "cell_type": "code",
   "execution_count": null,
   "metadata": {},
   "outputs": [],
   "source": [
    "general_final.to_excel(path_salida+'general.xlsx')\n",
    "general_desglose_final.to_excel(path_salida+'general_desglose_productos.xlsx')"
   ]
  }
 ],
 "metadata": {
  "kernelspec": {
   "display_name": "Python 3",
   "language": "python",
   "name": "python3"
  },
  "language_info": {
   "codemirror_mode": {
    "name": "ipython",
    "version": 3
   },
   "file_extension": ".py",
   "mimetype": "text/x-python",
   "name": "python",
   "nbconvert_exporter": "python",
   "pygments_lexer": "ipython3",
   "version": "3.7.6"
  }
 },
 "nbformat": 4,
 "nbformat_minor": 2
}
